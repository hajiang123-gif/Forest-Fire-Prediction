{
  "nbformat": 4,
  "nbformat_minor": 0,
  "metadata": {
    "colab": {
      "provenance": []
    },
    "kernelspec": {
      "name": "python3",
      "display_name": "Python 3"
    },
    "language_info": {
      "name": "python"
    }
  },
  "cells": [
    {
      "cell_type": "code",
      "execution_count": null,
      "metadata": {
        "colab": {
          "base_uri": "https://localhost:8080/"
        },
        "id": "CeJkzDML-CsH",
        "outputId": "0bcd5b40-9b0d-43e5-e425-ed56c3325dc7"
      },
      "outputs": [
        {
          "output_type": "stream",
          "name": "stdout",
          "text": [
            "Drive already mounted at /content/drive; to attempt to forcibly remount, call drive.mount(\"/content/drive\", force_remount=True).\n",
            "Forest fire predicted: NO\n"
          ]
        },
        {
          "output_type": "stream",
          "name": "stderr",
          "text": [
            "/usr/local/lib/python3.11/dist-packages/sklearn/base.py:380: InconsistentVersionWarning: Trying to unpickle estimator DecisionTreeRegressor from version 1.6.0 when using version 1.6.1. This might lead to breaking code or invalid results. Use at your own risk. For more info please refer to:\n",
            "https://scikit-learn.org/stable/model_persistence.html#security-maintainability-limitations\n",
            "  warnings.warn(\n",
            "/usr/local/lib/python3.11/dist-packages/sklearn/base.py:380: InconsistentVersionWarning: Trying to unpickle estimator RandomForestRegressor from version 1.6.0 when using version 1.6.1. This might lead to breaking code or invalid results. Use at your own risk. For more info please refer to:\n",
            "https://scikit-learn.org/stable/model_persistence.html#security-maintainability-limitations\n",
            "  warnings.warn(\n",
            "/usr/local/lib/python3.11/dist-packages/sklearn/utils/validation.py:2732: UserWarning: X has feature names, but RandomForestRegressor was fitted without feature names\n",
            "  warnings.warn(\n"
          ]
        }
      ],
      "source": [
        "import pickle\n",
        "import bz2\n",
        "import numpy as np\n",
        "import pandas as pd\n",
        "from sklearn.preprocessing import StandardScaler\n",
        "from google.colab import drive\n",
        "drive.mount('/content/drive')\n",
        "\n",
        "# Step 1: Load the saved model\n",
        "model_filename = '/content/regression_model.pkl'\n",
        "\n",
        "with bz2.BZ2File('regression_model.pkl', 'rb') as file:\n",
        "    model = pickle.load(file)\n",
        "\n",
        "# Step 2: Prepare the input data\n",
        "# Example input data for prediction\n",
        "\n",
        "# Temperature, RH (Relative Humidity), Wind Speed (Ws), Rain, FFMC, DMC, DC, ISI, BUI\n",
        "input_data = {\n",
        "    'Temperature': [40],\n",
        "    'RH': [0.5],\n",
        "    'Ws': [17],\n",
        "    'Rain': [0.0],\n",
        "    'DMC': [20.0],\n",
        "    'DC': [50.0],\n",
        "    'ISI': [7.0],\n",
        "    'BUI': [30.0]\n",
        "}\n",
        "\n",
        "# Convert the input data into a DataFrame\n",
        "input_df = pd.DataFrame(input_data)\n",
        "\n",
        "# Step 3: Preprocess the data (if required)\n",
        "# Standardize the new input\n",
        "scaler = StandardScaler()\n",
        "\n",
        "# Fit the scaler on your training data, and transform the input data\n",
        "# You must fit the scaler on the training data and save it as well (this is just an example)\n",
        "# If you already saved the scaler, you can load it like you did with the model.\n",
        "\n",
        "# Here, we'll just apply the standard scaler assuming it's already fitted during training\n",
        "input_scaled = scaler.fit_transform(input_df)\n",
        "\n",
        "# Step 4: Make predictions\n",
        "prediction = model.predict(input_df)\n",
        "\n",
        "# Step 5: Output the prediction\n",
        "if prediction[0] == 1:\n",
        "    print(\"Forest fire predicted: YES\")\n",
        "else:\n",
        "    print(\"Forest fire predicted: NO\")"
      ]
    }
  ]
}